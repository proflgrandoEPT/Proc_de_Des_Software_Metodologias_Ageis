{
  "nbformat": 4,
  "nbformat_minor": 0,
  "metadata": {
    "colab": {
      "provenance": [],
      "authorship_tag": "ABX9TyNgN038UGyouRletdhnhV58",
      "include_colab_link": true
    },
    "kernelspec": {
      "name": "python3",
      "display_name": "Python 3"
    },
    "language_info": {
      "name": "python"
    }
  },
  "cells": [
    {
      "cell_type": "markdown",
      "metadata": {
        "id": "view-in-github",
        "colab_type": "text"
      },
      "source": [
        "<a href=\"https://colab.research.google.com/github/proflgrandoEPT/Proc_de_Des_Software_Metodologias_Ageis/blob/main/EncapsulamentoB3S17.ipynb\" target=\"_parent\"><img src=\"https://colab.research.google.com/assets/colab-badge.svg\" alt=\"Open In Colab\"/></a>"
      ]
    },
    {
      "cell_type": "code",
      "execution_count": null,
      "metadata": {
        "id": "J4uAhmarRgae"
      },
      "outputs": [],
      "source": []
    },
    {
      "cell_type": "markdown",
      "source": [],
      "metadata": {
        "id": "77F3nQVuRm3S"
      }
    },
    {
      "cell_type": "code",
      "source": [
        "# -*- coding: UTF-8 -*-\n",
        "\n",
        "class Perfil(object):\n",
        "  'Classe padrão para perfis de usuários'\n",
        "\n",
        "  def __init__(self, nome, telefone, empresa):\n",
        "    self.nome = nome\n",
        "    self.telefone = telefone\n",
        "    self.empresa = empresa\n",
        "    self.curtidas = 0\n",
        "\n",
        "  def imprimir(self):\n",
        "    print(\"Nome : %s, Telefone: %s, Empresa %s\" % (self.nome, self.telefone, self.empresa))"
      ],
      "metadata": {
        "id": "7BMc7biHSxIT"
      },
      "execution_count": null,
      "outputs": []
    },
    {
      "cell_type": "code",
      "source": [
        "perfil = Perfil('Flávio Almeida', 'não informado', 'Caelum')"
      ],
      "metadata": {
        "id": "iuVxaqWJTI4f"
      },
      "execution_count": null,
      "outputs": []
    },
    {
      "cell_type": "code",
      "source": [
        "perfil.curtidas"
      ],
      "metadata": {
        "colab": {
          "base_uri": "https://localhost:8080/"
        },
        "id": "ly5HS7d0TXfi",
        "outputId": "af377e69-9b58-4c09-8fbd-0bffa88fb6ed"
      },
      "execution_count": null,
      "outputs": [
        {
          "output_type": "execute_result",
          "data": {
            "text/plain": [
              "0"
            ]
          },
          "metadata": {},
          "execution_count": 6
        }
      ]
    },
    {
      "cell_type": "code",
      "source": [
        "perfil.curtidas = perfil.curtidas + 1\n",
        "perfil.curtidas"
      ],
      "metadata": {
        "colab": {
          "base_uri": "https://localhost:8080/"
        },
        "id": "-3KngkxqTbvS",
        "outputId": "ff097fe3-fd2f-4c13-b358-343190008039"
      },
      "execution_count": null,
      "outputs": [
        {
          "output_type": "execute_result",
          "data": {
            "text/plain": [
              "1"
            ]
          },
          "metadata": {},
          "execution_count": 10
        }
      ]
    },
    {
      "cell_type": "code",
      "source": [
        "perfil.curtidas = 1000\n",
        "perfil.curtidas"
      ],
      "metadata": {
        "colab": {
          "base_uri": "https://localhost:8080/"
        },
        "id": "qdjo3_kqTwLo",
        "outputId": "28c17806-b331-4f56-b088-135bb6366f75"
      },
      "execution_count": null,
      "outputs": [
        {
          "output_type": "execute_result",
          "data": {
            "text/plain": [
              "1000"
            ]
          },
          "metadata": {},
          "execution_count": 11
        }
      ]
    },
    {
      "cell_type": "markdown",
      "source": [
        "Agora iremos modificar o código para contemplar o encapsulamento"
      ],
      "metadata": {
        "id": "qEXwaXihT3Jc"
      }
    },
    {
      "cell_type": "code",
      "source": [
        "# -*- coding: UTF-8 -*-\n",
        "\n",
        "class Perfil(object):\n",
        "  'Classe padrão para perfis de usuários'\n",
        "\n",
        "  def __init__(self, nome, telefone, empresa):\n",
        "    self.nome = nome\n",
        "    self.telefone = telefone\n",
        "    self.empresa = empresa\n",
        "    self.__curtidas = 0\n",
        "\n",
        "\n",
        "  def imprimir(self):\n",
        "    print(\"Nome : %s, Telefone: %s, Empresa %s\" % (self.nome, self.telefone, self.empresa))\n",
        "\n",
        "  def curtir(self):\n",
        "    self.__curtidas+=1\n",
        "\n",
        "  def obter_curtidas(self):\n",
        "    return self.__curtidas"
      ],
      "metadata": {
        "id": "JI9qhQVZT1dt"
      },
      "execution_count": null,
      "outputs": []
    },
    {
      "cell_type": "code",
      "source": [
        "perfil = Perfil('Flávio Almeida', 'não informado', 'Caelum')"
      ],
      "metadata": {
        "id": "oWv1zl33UtY6"
      },
      "execution_count": null,
      "outputs": []
    },
    {
      "cell_type": "code",
      "source": [
        "perfil.curtir()\n",
        "perfil.curtir()\n",
        "perfil.obter_curtidas()"
      ],
      "metadata": {
        "colab": {
          "base_uri": "https://localhost:8080/"
        },
        "id": "JXU2E3AVUvPs",
        "outputId": "11f9644b-2a19-4dd6-dd45-61cc54ac79c6"
      },
      "execution_count": null,
      "outputs": [
        {
          "output_type": "execute_result",
          "data": {
            "text/plain": [
              "2"
            ]
          },
          "metadata": {},
          "execution_count": 16
        }
      ]
    },
    {
      "cell_type": "code",
      "source": [
        "perfil.curtir() = 1200"
      ],
      "metadata": {
        "colab": {
          "base_uri": "https://localhost:8080/",
          "height": 106
        },
        "id": "oe_JgeTfU8q4",
        "outputId": "7754c303-7a65-45e8-8653-0d9f03c289db"
      },
      "execution_count": null,
      "outputs": [
        {
          "output_type": "error",
          "ename": "SyntaxError",
          "evalue": "cannot assign to function call here. Maybe you meant '==' instead of '='? (ipython-input-2140963162.py, line 1)",
          "traceback": [
            "\u001b[0;36m  File \u001b[0;32m\"/tmp/ipython-input-2140963162.py\"\u001b[0;36m, line \u001b[0;32m1\u001b[0m\n\u001b[0;31m    perfil.curtir() = 1200\u001b[0m\n\u001b[0m    ^\u001b[0m\n\u001b[0;31mSyntaxError\u001b[0m\u001b[0;31m:\u001b[0m cannot assign to function call here. Maybe you meant '==' instead of '='?\n"
          ]
        }
      ]
    },
    {
      "cell_type": "code",
      "source": [],
      "metadata": {
        "id": "gcGG8L0DVD3_"
      },
      "execution_count": null,
      "outputs": []
    },
    {
      "cell_type": "markdown",
      "source": [
        "Atividade 2"
      ],
      "metadata": {
        "id": "TYXMr9YeVJNV"
      }
    },
    {
      "cell_type": "code",
      "source": [
        "# -*- coding: UTF-8 -*-\n",
        "\n",
        "class Perfil(object):\n",
        "  'Classe padrão para perfis de usuários'\n",
        "\n",
        "  def __init__(self, nome, telefone, empresa):\n",
        "    self.nome = nome\n",
        "    self.telefone = telefone\n",
        "    self.empresa = empresa\n",
        "    self.__curtidas = 0\n",
        "\n",
        "\n",
        "  def obter_curtidas(self):\n",
        "    return self.__curtidas\n",
        "\n",
        "  def curtir(self):\n",
        "    self.__curtidas+=1"
      ],
      "metadata": {
        "id": "rUZ5iHVYVLxa"
      },
      "execution_count": 23,
      "outputs": []
    },
    {
      "cell_type": "code",
      "source": [
        "perfil2 = Perfil('Flávio Almeida', 'não informado', 'Caelum')\n",
        "\n",
        "perfil2.curtir()\n",
        "perfil2.curtir()\n",
        "perfil2.obter_curtidas()"
      ],
      "metadata": {
        "colab": {
          "base_uri": "https://localhost:8080/"
        },
        "id": "EiEv34vmWQ8B",
        "outputId": "3d93ccb7-129d-4c58-8b32-4dc31ad3ca12"
      },
      "execution_count": 25,
      "outputs": [
        {
          "output_type": "execute_result",
          "data": {
            "text/plain": [
              "2"
            ]
          },
          "metadata": {},
          "execution_count": 25
        }
      ]
    }
  ]
}