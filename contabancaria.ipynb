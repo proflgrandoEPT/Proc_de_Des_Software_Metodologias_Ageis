{
  "nbformat": 4,
  "nbformat_minor": 0,
  "metadata": {
    "colab": {
      "provenance": [],
      "authorship_tag": "ABX9TyMRAQptKnKQ0gOt111TSLBa",
      "include_colab_link": true
    },
    "kernelspec": {
      "name": "python3",
      "display_name": "Python 3"
    },
    "language_info": {
      "name": "python"
    }
  },
  "cells": [
    {
      "cell_type": "markdown",
      "metadata": {
        "id": "view-in-github",
        "colab_type": "text"
      },
      "source": [
        "<a href=\"https://colab.research.google.com/github/proflgrandoEPT/Proc_de_Des_Software_Metodologias_Ageis/blob/main/contabancaria.ipynb\" target=\"_parent\"><img src=\"https://colab.research.google.com/assets/colab-badge.svg\" alt=\"Open In Colab\"/></a>"
      ]
    },
    {
      "cell_type": "markdown",
      "source": [
        "# Semana 21 (S21) – Herança: reutilização de código e hierarquia de classes\n",
        "\n",
        "## Aula 1\n",
        "\n",
        "\n",
        "\n"
      ],
      "metadata": {
        "id": "EhWvaJUB-kK-"
      }
    },
    {
      "cell_type": "code",
      "execution_count": 25,
      "metadata": {
        "id": "uHtJR-Du9LJ2"
      },
      "outputs": [],
      "source": [
        "class ContaBancaria:\n",
        "  def __init__(self, numero_conta, saldo=0):\n",
        "    self.numero_conta = numero_conta\n",
        "    self.saldo = saldo\n",
        "    self.transacoes = []\n",
        "\n",
        "  def depositar(self, valor):\n",
        "    self.saldo += valor\n",
        "    self.registrar_transacao(\"Depósito\", valor)\n",
        "\n",
        "  def sacar(self, valor):\n",
        "    if self.saldo >= valor:\n",
        "      self.saldo -= valor\n",
        "      self.registrar_transacao(\"Saque\", valor)\n",
        "    else:\n",
        "      print(\"Saldo insuficiente.\")\n",
        "\n",
        "\n",
        "  def consultar_saldo(self):\n",
        "    print(\"Saldo:\", self.saldo)\n",
        "\n",
        "  def registrar_transacao(self, tipo, valor):\n",
        "    self.transacoes.append({\"Tipo\": tipo, \"Valor\": valor})"
      ]
    },
    {
      "cell_type": "code",
      "source": [
        "class ContaCorrente(ContaBancaria):\n",
        "  def __init__(self, numero_conta, limite_cheque_especial=0):\n",
        "    super().__init__(numero_conta)\n",
        "    self.limite_cheque_especial = limite_cheque_especial\n",
        "\n",
        "  def emitir_cheque(self, valor):\n",
        "    if self.saldo + self.limite_cheque_especial >= valor:\n",
        "      self.saldo -= valor\n",
        "      self.registrar_transacao(\"Emissão de Cheque\", valor)\n",
        "    else:\n",
        "      print(\"Limite de cheque especial excedido.\")"
      ],
      "metadata": {
        "id": "c-s557N79W90"
      },
      "execution_count": 26,
      "outputs": []
    },
    {
      "cell_type": "code",
      "source": [
        "class ContaPoupanca(ContaBancaria):\n",
        "  def calcular_juros_mensal(self, taxa_juros):\n",
        "    juros = self.saldo * (taxa_juros / 100)\n",
        "    self.saldo += juros\n",
        "    self.registrar_transacao(\"Juros Mensais\", juros)\n",
        "\n",
        "  class ContaInvestimento(ContaBancaria):\n",
        "    def __init__(self, numero_conta):\n",
        "      super().__init__(numero_conta)\n",
        "      self.investimentos = []\n",
        "\n",
        "    def realizar_investimento(self, produto, valor):\n",
        "    # Lógica para realizar o investimento\n",
        "      self.registrar_transacao(\"Investimento\", valor)"
      ],
      "metadata": {
        "id": "SCJ3-0gg-MRz"
      },
      "execution_count": 27,
      "outputs": []
    },
    {
      "cell_type": "markdown",
      "source": [
        "## Aula 2"
      ],
      "metadata": {
        "id": "3wdhSY3l-pR-"
      }
    },
    {
      "cell_type": "code",
      "source": [
        "class CalculadoraTarifas:\n",
        "  @staticmethod\n",
        "  def calcular_tarifa_base():\n",
        "    return 5 # Exemplo: tarifa base de R$ 5 para todas as contas\n",
        "\n",
        "  @staticmethod\n",
        "  def calcular_tarifa_transacao(numero_transacoes):\n",
        "    if numero_transacoes > 10:\n",
        "      return (numero_transacoes - 10) * 1.5 # Exemplo: R$ 1,50 por transação adicional\n",
        "    else:\n",
        "      return 0\n",
        "\n",
        "  @staticmethod\n",
        "  def calcular_tarifa_saldo(saldo):\n",
        "    if saldo < 1000:\n",
        "      return 10 # Exemplo: tarifa de R$ 10 para saldos abaixo de R$ 1000\n",
        "    else:\n",
        "      return 0"
      ],
      "metadata": {
        "id": "I-KWAla9-djB"
      },
      "execution_count": 28,
      "outputs": []
    },
    {
      "cell_type": "code",
      "source": [
        "class ContaBancaria:\n",
        "  def __init__(self, numero_conta, saldo=0, numero_transacoes=0):\n",
        "    self.numero_conta = numero_conta\n",
        "    self.saldo = saldo\n",
        "    self.numero_transacoes = numero_transacoes\n",
        "\n",
        "  def depositar(self, valor):\n",
        "    self.saldo += valor\n",
        "    self.numero_transacoes += 1\n",
        "\n",
        "  def sacar(self, valor):\n",
        "    self.saldo -= valor\n",
        "    self.numero_transacoes += 1\n",
        "\n",
        "  def calcular_tarifa(self):\n",
        "    tarifa_base = CalculadoraTarifas.calcular_tarifa_base()\n",
        "    tarifa_transacao = CalculadoraTarifas.calcular_tarifa_transacao(self.numero_transacoes)\n",
        "    tarifa_saldo = CalculadoraTarifas.calcular_tarifa_saldo(self.saldo)\n",
        "    return tarifa_base + tarifa_transacao + tarifa_saldo"
      ],
      "metadata": {
        "id": "3Lc1s7qm_Foi"
      },
      "execution_count": 34,
      "outputs": []
    },
    {
      "cell_type": "code",
      "source": [],
      "metadata": {
        "id": "TkodToYm_ST1"
      },
      "execution_count": 33,
      "outputs": []
    },
    {
      "cell_type": "code",
      "source": [
        "class ContaCorrente(ContaBancaria):\n",
        "  def __init__(self, numero_conta, saldo=0, numero_transacoes=0):\n",
        "   super().__init__(numero_conta, saldo, numero_transacoes)\n",
        "\n",
        "class ContaPoupanca(ContaBancaria):\n",
        "  def __init__(self, numero_conta, saldo=0, numero_transacoes=0):\n",
        "    super().__init__(numero_conta, saldo, numero_transacoes)"
      ],
      "metadata": {
        "id": "v4WKtUP9_4RG"
      },
      "execution_count": 35,
      "outputs": []
    },
    {
      "cell_type": "code",
      "source": [
        "# Exemplo de uso\n",
        "conta_corrente = ContaCorrente(\"12345\")\n",
        "conta_corrente.depositar(1000)\n",
        "conta_corrente.sacar(200)\n",
        "print(\"Tarifa da conta corrente:\", conta_corrente.calcular_tarifa())\n",
        "\n",
        "conta_poupanca = ContaPoupanca(\"54321\")\n",
        "conta_poupanca.depositar(500)\n",
        "conta_poupanca.sacar(100)\n",
        "print(\"Tarifa da conta poupança:\", conta_poupanca.calcular_tarifa())"
      ],
      "metadata": {
        "colab": {
          "base_uri": "https://localhost:8080/"
        },
        "id": "e9fvRjIYACBm",
        "outputId": "fb845973-8a78-4cda-8bb1-4a1299045912"
      },
      "execution_count": 36,
      "outputs": [
        {
          "output_type": "stream",
          "name": "stdout",
          "text": [
            "Tarifa da conta corrente: 15\n",
            "Tarifa da conta poupança: 15\n"
          ]
        }
      ]
    }
  ]
}