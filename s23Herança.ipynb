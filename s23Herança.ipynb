{
  "nbformat": 4,
  "nbformat_minor": 0,
  "metadata": {
    "colab": {
      "provenance": [],
      "authorship_tag": "ABX9TyMzXn5mSejOLpbmZPtvTIUl",
      "include_colab_link": true
    },
    "kernelspec": {
      "name": "python3",
      "display_name": "Python 3"
    },
    "language_info": {
      "name": "python"
    }
  },
  "cells": [
    {
      "cell_type": "markdown",
      "metadata": {
        "id": "view-in-github",
        "colab_type": "text"
      },
      "source": [
        "<a href=\"https://colab.research.google.com/github/proflgrandoEPT/Proc_de_Des_Software_Metodologias_Ageis/blob/main/s23Heran%C3%A7a.ipynb\" target=\"_parent\"><img src=\"https://colab.research.google.com/assets/colab-badge.svg\" alt=\"Open In Colab\"/></a>"
      ]
    },
    {
      "cell_type": "code",
      "execution_count": 2,
      "metadata": {
        "id": "RSrUsrxde1fw"
      },
      "outputs": [],
      "source": [
        "class ProdutoEletronico:\n",
        "  def __init__(self, nome, marca, preco):\n",
        "    #inicializando os atribuytos comuns a todos os produtos eletronicos\n",
        "    self.nome = nome\n",
        "    self.marca = marca\n",
        "    self.preco = preco\n",
        "\n",
        "  def exibir_informações(self):\n",
        "    #medoto para exibir informações gerais do produto\n",
        "    print(f\"Nome: {self.nome}, Marca: {self.marca}, Preco: R${self.preco:.2f})\")"
      ]
    },
    {
      "cell_type": "code",
      "source": [
        "class Smartphone (ProdutoEletronico):\n",
        "    # Chamando o método __init__() da classe base para inicializar os atributos comuns\n",
        "    def __init__(self, nome, marca, preco, capacidade_armazenamento):\n",
        "        super().__init__(nome, marca, preco)\n",
        "        # Adicionando atributo específico para smartphones\n",
        "        self.capacidade_armazenamento = capacidade_armazenamento\n",
        "\n",
        "    def exibir_informacoes(self):\n",
        "        # Sobrescrevendo o método exibir_informacoes() para incluir informações de smartphones\n",
        "        super().exibir_informacoes()\n",
        "        print(f\"Capacidade de Armazenamento: {self.capacidade_armazenamento}GB\")\n"
      ],
      "metadata": {
        "id": "Z198YZ0LjXvz"
      },
      "execution_count": 3,
      "outputs": []
    },
    {
      "cell_type": "code",
      "source": [
        "class Laptop(ProdutoEletronico):\n",
        "    # Chamando o método __init__() da classe base para inicializar os atributos comuns\n",
        "    def __init__(self, nome, marca, preco, memoria_ram):\n",
        "        # Adicionando atributo específico para laptops\n",
        "        super().__init__(nome, marca, preco)\n",
        "        self.memoria_ram = memoria_ram\n",
        "\n",
        "    def exibir_informacoes(self):\n",
        "        # Sobrescrevendo o método exibir_informacoes() para incluir informações de laptops\n",
        "        super().exibir_informacoes()\n",
        "        print(f\"Memória RAM: {self.memoria_ram}GB\")\n"
      ],
      "metadata": {
        "id": "AJ8n_qaKkQ_y"
      },
      "execution_count": 4,
      "outputs": []
    },
    {
      "cell_type": "code",
      "source": [
        "class Televisor(ProdutoEletronico):\n",
        "    # Chamando o método __init__() da classe base para inicializar os atributos comuns\n",
        "    def __init__(self, nome, marca, preco, tamanho_tela):\n",
        "        # Adicionando atributo específico para televisores\n",
        "        super().__init__(nome, marca, preco)\n",
        "        self.tamanho_tela = tamanho_tela\n",
        "\n",
        "    def exibir_informacoes(self):\n",
        "        # Sobrescrevendo o método exibir_informacoes() para incluir informações de televisores\n",
        "        super().exibir_informacoes()\n",
        "        print(f\"Tamanho da Tela: {self.tamanho_tela} polegadas\")\n"
      ],
      "metadata": {
        "id": "mCrsaLFDkfdy"
      },
      "execution_count": 5,
      "outputs": []
    },
    {
      "cell_type": "code",
      "source": [
        "class ProdutoEletronico:\n",
        "    def __init__(self, nome, marca, preco):\n",
        "        self.nome = nome\n",
        "        self.marca = marca\n",
        "        self.preco = preco\n",
        "\n",
        "    def exibir_informacoes(self):\n",
        "        print(f\"Nome: {self.nome}, Marca: {self.marca}, Preço: {self.preco}\")\n",
        "\n",
        "class Smartphone(ProdutoEletronico):\n",
        "    def __init__(self, nome, marca, preco, armazenamento):\n",
        "        super().__init__(nome, marca, preco)\n",
        "        self.armazenamento = armazenamento\n",
        "\n",
        "    def exibir_informacoes(self):\n",
        "        super().exibir_informacoes()\n",
        "        print(f\"Armazenamento: {self.armazenamento}GB\")\n"
      ],
      "metadata": {
        "id": "x3NQS0ZckoTS"
      },
      "execution_count": 6,
      "outputs": []
    },
    {
      "cell_type": "code",
      "source": [
        "class Laptop(ProdutoEletronico):\n",
        "    def __init__(self, nome, marca, preco, memoria_ram):\n",
        "        super().__init__(nome, marca, preco)\n",
        "        self.memoria_ram = memoria_ram\n",
        "\n",
        "    def exibir_informacoes(self):\n",
        "        super().exibir_informacoes()\n",
        "        print(f\"Memória RAM: {self.memoria_ram}GB\")\n",
        "\n",
        "class Televisor(ProdutoEletronico):\n",
        "    def __init__(self, nome, marca, preco, tamanho):\n",
        "        super().__init__(nome, marca, preco)\n",
        "        self.tamanho = tamanho\n",
        "\n",
        "    def exibir_informacoes(self):\n",
        "        super().exibir_informacoes()\n",
        "        print(f\"Tamanho: {self.tamanho}\\\"\")\n"
      ],
      "metadata": {
        "id": "rqryeD0Uk_8p"
      },
      "execution_count": 7,
      "outputs": []
    },
    {
      "cell_type": "code",
      "source": [
        "Televisor(\"EC1\", \"Sony\", \"1999\", \"43\").exibir_informacoes()"
      ],
      "metadata": {
        "colab": {
          "base_uri": "https://localhost:8080/"
        },
        "id": "u3GTx2E4mqB_",
        "outputId": "420c4ae6-23bb-45f6-864e-6858c239321d"
      },
      "execution_count": 10,
      "outputs": [
        {
          "output_type": "stream",
          "name": "stdout",
          "text": [
            "Nome: EC1, Marca: Sony, Preço: 1999\n",
            "Tamanho: 43\"\n"
          ]
        }
      ]
    }
  ]
}