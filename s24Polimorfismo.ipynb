{
  "nbformat": 4,
  "nbformat_minor": 0,
  "metadata": {
    "colab": {
      "provenance": [],
      "authorship_tag": "ABX9TyOstR32CGmBbfXoJL8xkog9",
      "include_colab_link": true
    },
    "kernelspec": {
      "name": "python3",
      "display_name": "Python 3"
    },
    "language_info": {
      "name": "python"
    }
  },
  "cells": [
    {
      "cell_type": "markdown",
      "metadata": {
        "id": "view-in-github",
        "colab_type": "text"
      },
      "source": [
        "<a href=\"https://colab.research.google.com/github/proflgrandoEPT/Proc_de_Des_Software_Metodologias_Ageis/blob/main/s24Polimorfismo.ipynb\" target=\"_parent\"><img src=\"https://colab.research.google.com/assets/colab-badge.svg\" alt=\"Open In Colab\"/></a>"
      ]
    },
    {
      "cell_type": "code",
      "execution_count": 7,
      "metadata": {
        "id": "-nnDQcXsqjKA"
      },
      "outputs": [],
      "source": [
        "from abc import ABC, abstractmethod\n",
        "\n",
        "# Classe base abstrata\n",
        "class Veiculo(ABC):\n",
        "    @abstractmethod\n",
        "    def calcular_tempo_entrega(self, distancia):\n",
        "        pass\n"
      ]
    },
    {
      "cell_type": "code",
      "source": [
        "# Classe derivada para carros\n",
        "class Carro(Veiculo):\n",
        "    def calcular_tempo_entrega(self, distancia):\n",
        "        # Supondo uma velocidade média de 60 km/h para carros\n",
        "        return distancia / 60  # Tempo em horas\n",
        "\n",
        "# Classe derivada para caminhões\n",
        "class Caminhao(Veiculo):\n",
        "    def calcular_tempo_entrega(self, distancia):\n",
        "        # Supondo uma velocidade média de 40 km/h para caminhões\n",
        "        return distancia / 40  # Tempo em horas\n",
        "\n",
        "# Classe derivada para bicicletas\n",
        "class Bicicleta(Veiculo):\n",
        "    def calcular_tempo_entrega(self, distancia):\n",
        "        # Supondo uma velocidade média de 15 km/h para bicicletas\n",
        "        return distancia / 15  # Tempo em horas\n"
      ],
      "metadata": {
        "id": "hFk00YXdtNPr"
      },
      "execution_count": 25,
      "outputs": []
    },
    {
      "cell_type": "code",
      "source": [
        "# Função principal\n",
        "def main():\n",
        "    # Exemplo de uso do polimorfismo\n",
        "    carro = Carro()\n",
        "    caminhao = Caminhao()\n",
        "    bicicleta = Bicicleta()\n",
        "\n",
        "    distancia = 100 # km\n",
        "\n",
        "    # Calcular tempo de entrega para cada tipo de veículo\n",
        "    tempo_carro = carro.calcular_tempo_entrega(distancia)\n",
        "    tempo_caminhao = caminhao.calcular_tempo_entrega(distancia)\n",
        "    tempo_bicicleta = bicicleta.calcular_tempo_entrega(distancia)\n",
        "    print(\"Tempo estimado de entrega para carro:\", tempo_carro, \"horas\")\n",
        "    print(\"Tempo estimado de entrega para caminhão:\", tempo_caminhao, \"horas\")\n",
        "    print(\"Tempo estimado de entrega para bicicleta:\", tempo_bicicleta, \"horas\")\n"
      ],
      "metadata": {
        "id": "0mrFRWOXtiI2"
      },
      "execution_count": 28,
      "outputs": []
    },
    {
      "cell_type": "code",
      "source": [
        "\n",
        "\n",
        "# Executar a função principal\n",
        "if __name__ == \"__main__\":\n",
        "    main()\n"
      ],
      "metadata": {
        "colab": {
          "base_uri": "https://localhost:8080/"
        },
        "id": "PgMCinWbt1Sp",
        "outputId": "d702ee8d-9379-4a6f-ca25-0dfbc36d36d6"
      },
      "execution_count": 29,
      "outputs": [
        {
          "output_type": "stream",
          "name": "stdout",
          "text": [
            "Tempo estimado de entrega para carro: 1.6666666666666667 horas\n",
            "Tempo estimado de entrega para caminhão: 2.5 horas\n",
            "Tempo estimado de entrega para bicicleta: 6.666666666666667 horas\n"
          ]
        }
      ]
    },
    {
      "cell_type": "code",
      "source": [
        "# Saída dos resultados\n"
      ],
      "metadata": {
        "colab": {
          "base_uri": "https://localhost:8080/",
          "height": 211
        },
        "id": "JMEEKB5ZyjC0",
        "outputId": "dd1bdc2f-596c-4298-9d56-2b3c2ac511fc"
      },
      "execution_count": 24,
      "outputs": [
        {
          "output_type": "stream",
          "name": "stdout",
          "text": [
            "Tempo estimado de entrega para carro: 1.6666666666666667 horas\n"
          ]
        },
        {
          "output_type": "error",
          "ename": "NameError",
          "evalue": "name 'tempo_caminhao' is not defined",
          "traceback": [
            "\u001b[0;31m---------------------------------------------------------------------------\u001b[0m",
            "\u001b[0;31mNameError\u001b[0m                                 Traceback (most recent call last)",
            "\u001b[0;32m/tmp/ipython-input-1527817478.py\u001b[0m in \u001b[0;36m<cell line: 0>\u001b[0;34m()\u001b[0m\n\u001b[1;32m      1\u001b[0m \u001b[0;31m# Saída dos resultados\u001b[0m\u001b[0;34m\u001b[0m\u001b[0;34m\u001b[0m\u001b[0m\n\u001b[1;32m      2\u001b[0m \u001b[0mprint\u001b[0m\u001b[0;34m(\u001b[0m\u001b[0;34m\"Tempo estimado de entrega para carro:\"\u001b[0m\u001b[0;34m,\u001b[0m \u001b[0mtempo_carro\u001b[0m\u001b[0;34m,\u001b[0m \u001b[0;34m\"horas\"\u001b[0m\u001b[0;34m)\u001b[0m\u001b[0;34m\u001b[0m\u001b[0;34m\u001b[0m\u001b[0m\n\u001b[0;32m----> 3\u001b[0;31m \u001b[0mprint\u001b[0m\u001b[0;34m(\u001b[0m\u001b[0;34m\"Tempo estimado de entrega para caminhão:\"\u001b[0m\u001b[0;34m,\u001b[0m \u001b[0mtempo_caminhao\u001b[0m\u001b[0;34m,\u001b[0m \u001b[0;34m\"horas\"\u001b[0m\u001b[0;34m)\u001b[0m\u001b[0;34m\u001b[0m\u001b[0;34m\u001b[0m\u001b[0m\n\u001b[0m\u001b[1;32m      4\u001b[0m \u001b[0mprint\u001b[0m\u001b[0;34m(\u001b[0m\u001b[0;34m\"Tempo estimado de entrega para bicicleta:\"\u001b[0m\u001b[0;34m,\u001b[0m \u001b[0mtempo_bicicleta\u001b[0m\u001b[0;34m,\u001b[0m \u001b[0;34m\"horas\"\u001b[0m\u001b[0;34m)\u001b[0m\u001b[0;34m\u001b[0m\u001b[0;34m\u001b[0m\u001b[0m\n",
            "\u001b[0;31mNameError\u001b[0m: name 'tempo_caminhao' is not defined"
          ]
        }
      ]
    }
  ]
}